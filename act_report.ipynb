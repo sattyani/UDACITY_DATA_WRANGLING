{
 "cells": [
  {
   "cell_type": "markdown",
   "metadata": {},
   "source": [
    "# Objectives"
   ]
  },
  {
   "cell_type": "markdown",
   "metadata": {},
   "source": [
    "Create a 250-word-minimum written report called act_report.pdf or act_report.html that communicates the insights and displays the visualization(s) produced from your wrangled data. This is to be framed as an external document, like a blog post or magazine article, for example."
   ]
  },
  {
   "cell_type": "code",
   "execution_count": 3,
   "metadata": {},
   "outputs": [],
   "source": [
    "import datetime as dt\n",
    "import json\n",
    "import numpy as np\n",
    "import pandas as pd\n",
    "import re\n",
    "import requests\n",
    "import tweepy\n",
    "import time"
   ]
  },
  {
   "cell_type": "code",
   "execution_count": 5,
   "metadata": {},
   "outputs": [
    {
     "name": "stdout",
     "output_type": "stream",
     "text": [
      "<class 'pandas.core.frame.DataFrame'>\n",
      "RangeIndex: 1659 entries, 0 to 1658\n",
      "Data columns (total 21 columns):\n",
      " #   Column            Non-Null Count  Dtype  \n",
      "---  ------            --------------  -----  \n",
      " 0   tweet_id          1659 non-null   int64  \n",
      " 1   timestamp         1659 non-null   object \n",
      " 2   rating_out_of_10  1659 non-null   int64  \n",
      " 3   name              1659 non-null   object \n",
      " 4   stage             1659 non-null   object \n",
      " 5   jpg_url           1659 non-null   object \n",
      " 6   img_num           1659 non-null   int64  \n",
      " 7   p1                1659 non-null   object \n",
      " 8   p1_conf           1659 non-null   float64\n",
      " 9   p1_dog            1659 non-null   bool   \n",
      " 10  p2                1659 non-null   object \n",
      " 11  p2_conf           1659 non-null   float64\n",
      " 12  p2_dog            1659 non-null   bool   \n",
      " 13  p3                1659 non-null   object \n",
      " 14  p3_conf           1659 non-null   float64\n",
      " 15  p3_dog            1659 non-null   bool   \n",
      " 16  favorites         1659 non-null   int64  \n",
      " 17  retweets          1659 non-null   int64  \n",
      " 18  user_followers    1659 non-null   int64  \n",
      " 19  user_favourites   1659 non-null   int64  \n",
      " 20  date_time         1659 non-null   object \n",
      "dtypes: bool(3), float64(3), int64(7), object(8)\n",
      "memory usage: 238.3+ KB\n"
     ]
    }
   ],
   "source": [
    "df_archive_master= pd.read_csv('twitter_archive_master.csv')\n",
    "df_archive_master.info()"
   ]
  },
  {
   "cell_type": "markdown",
   "metadata": {},
   "source": [
    "## Visualization"
   ]
  },
  {
   "cell_type": "code",
   "execution_count": 6,
   "metadata": {},
   "outputs": [
    {
     "data": {
      "text/html": [
       "<div>\n",
       "<style scoped>\n",
       "    .dataframe tbody tr th:only-of-type {\n",
       "        vertical-align: middle;\n",
       "    }\n",
       "\n",
       "    .dataframe tbody tr th {\n",
       "        vertical-align: top;\n",
       "    }\n",
       "\n",
       "    .dataframe thead th {\n",
       "        text-align: right;\n",
       "    }\n",
       "</style>\n",
       "<table border=\"1\" class=\"dataframe\">\n",
       "  <thead>\n",
       "    <tr style=\"text-align: right;\">\n",
       "      <th></th>\n",
       "      <th>tweet_id</th>\n",
       "      <th>rating_out_of_10</th>\n",
       "      <th>img_num</th>\n",
       "      <th>p1_conf</th>\n",
       "      <th>p2_conf</th>\n",
       "      <th>p3_conf</th>\n",
       "      <th>favorites</th>\n",
       "      <th>retweets</th>\n",
       "      <th>user_followers</th>\n",
       "      <th>user_favourites</th>\n",
       "    </tr>\n",
       "  </thead>\n",
       "  <tbody>\n",
       "    <tr>\n",
       "      <th>count</th>\n",
       "      <td>1.659000e+03</td>\n",
       "      <td>1659.000000</td>\n",
       "      <td>1659.000000</td>\n",
       "      <td>1659.000000</td>\n",
       "      <td>1659.000000</td>\n",
       "      <td>1.659000e+03</td>\n",
       "      <td>1659.000000</td>\n",
       "      <td>1659.00000</td>\n",
       "      <td>1.659000e+03</td>\n",
       "      <td>1659.000000</td>\n",
       "    </tr>\n",
       "    <tr>\n",
       "      <th>mean</th>\n",
       "      <td>7.392510e+17</td>\n",
       "      <td>10.810729</td>\n",
       "      <td>1.214587</td>\n",
       "      <td>0.605197</td>\n",
       "      <td>0.137453</td>\n",
       "      <td>6.142101e-02</td>\n",
       "      <td>8664.582278</td>\n",
       "      <td>2523.88909</td>\n",
       "      <td>8.769727e+06</td>\n",
       "      <td>145944.009042</td>\n",
       "    </tr>\n",
       "    <tr>\n",
       "      <th>std</th>\n",
       "      <td>6.793112e+16</td>\n",
       "      <td>1.803122</td>\n",
       "      <td>0.574701</td>\n",
       "      <td>0.266407</td>\n",
       "      <td>0.101495</td>\n",
       "      <td>5.195868e-02</td>\n",
       "      <td>12724.464295</td>\n",
       "      <td>4585.63332</td>\n",
       "      <td>6.201621e+01</td>\n",
       "      <td>0.094685</td>\n",
       "    </tr>\n",
       "    <tr>\n",
       "      <th>min</th>\n",
       "      <td>6.660209e+17</td>\n",
       "      <td>0.000000</td>\n",
       "      <td>1.000000</td>\n",
       "      <td>0.044333</td>\n",
       "      <td>0.000010</td>\n",
       "      <td>2.160900e-07</td>\n",
       "      <td>72.000000</td>\n",
       "      <td>11.00000</td>\n",
       "      <td>8.769712e+06</td>\n",
       "      <td>145944.000000</td>\n",
       "    </tr>\n",
       "    <tr>\n",
       "      <th>25%</th>\n",
       "      <td>6.774323e+17</td>\n",
       "      <td>10.000000</td>\n",
       "      <td>1.000000</td>\n",
       "      <td>0.378397</td>\n",
       "      <td>0.054823</td>\n",
       "      <td>1.600860e-02</td>\n",
       "      <td>1969.500000</td>\n",
       "      <td>564.50000</td>\n",
       "      <td>8.769716e+06</td>\n",
       "      <td>145944.000000</td>\n",
       "    </tr>\n",
       "    <tr>\n",
       "      <th>50%</th>\n",
       "      <td>7.139006e+17</td>\n",
       "      <td>11.000000</td>\n",
       "      <td>1.000000</td>\n",
       "      <td>0.606654</td>\n",
       "      <td>0.121377</td>\n",
       "      <td>4.991380e-02</td>\n",
       "      <td>4044.000000</td>\n",
       "      <td>1250.00000</td>\n",
       "      <td>8.769723e+06</td>\n",
       "      <td>145944.000000</td>\n",
       "    </tr>\n",
       "    <tr>\n",
       "      <th>75%</th>\n",
       "      <td>7.931581e+17</td>\n",
       "      <td>12.000000</td>\n",
       "      <td>1.000000</td>\n",
       "      <td>0.852629</td>\n",
       "      <td>0.199342</td>\n",
       "      <td>9.470910e-02</td>\n",
       "      <td>10688.000000</td>\n",
       "      <td>2856.50000</td>\n",
       "      <td>8.769726e+06</td>\n",
       "      <td>145944.000000</td>\n",
       "    </tr>\n",
       "    <tr>\n",
       "      <th>max</th>\n",
       "      <td>8.921774e+17</td>\n",
       "      <td>14.000000</td>\n",
       "      <td>4.000000</td>\n",
       "      <td>0.999984</td>\n",
       "      <td>0.467678</td>\n",
       "      <td>2.734190e-01</td>\n",
       "      <td>156782.000000</td>\n",
       "      <td>78122.00000</td>\n",
       "      <td>8.770381e+06</td>\n",
       "      <td>145945.000000</td>\n",
       "    </tr>\n",
       "  </tbody>\n",
       "</table>\n",
       "</div>"
      ],
      "text/plain": [
       "           tweet_id  rating_out_of_10      img_num      p1_conf      p2_conf  \\\n",
       "count  1.659000e+03       1659.000000  1659.000000  1659.000000  1659.000000   \n",
       "mean   7.392510e+17         10.810729     1.214587     0.605197     0.137453   \n",
       "std    6.793112e+16          1.803122     0.574701     0.266407     0.101495   \n",
       "min    6.660209e+17          0.000000     1.000000     0.044333     0.000010   \n",
       "25%    6.774323e+17         10.000000     1.000000     0.378397     0.054823   \n",
       "50%    7.139006e+17         11.000000     1.000000     0.606654     0.121377   \n",
       "75%    7.931581e+17         12.000000     1.000000     0.852629     0.199342   \n",
       "max    8.921774e+17         14.000000     4.000000     0.999984     0.467678   \n",
       "\n",
       "            p3_conf      favorites     retweets  user_followers  \\\n",
       "count  1.659000e+03    1659.000000   1659.00000    1.659000e+03   \n",
       "mean   6.142101e-02    8664.582278   2523.88909    8.769727e+06   \n",
       "std    5.195868e-02   12724.464295   4585.63332    6.201621e+01   \n",
       "min    2.160900e-07      72.000000     11.00000    8.769712e+06   \n",
       "25%    1.600860e-02    1969.500000    564.50000    8.769716e+06   \n",
       "50%    4.991380e-02    4044.000000   1250.00000    8.769723e+06   \n",
       "75%    9.470910e-02   10688.000000   2856.50000    8.769726e+06   \n",
       "max    2.734190e-01  156782.000000  78122.00000    8.770381e+06   \n",
       "\n",
       "       user_favourites  \n",
       "count      1659.000000  \n",
       "mean     145944.009042  \n",
       "std           0.094685  \n",
       "min      145944.000000  \n",
       "25%      145944.000000  \n",
       "50%      145944.000000  \n",
       "75%      145944.000000  \n",
       "max      145945.000000  "
      ]
     },
     "execution_count": 6,
     "metadata": {},
     "output_type": "execute_result"
    }
   ],
   "source": [
    "df_archive_master.describe()"
   ]
  },
  {
   "cell_type": "markdown",
   "metadata": {},
   "source": [
    "### 1- Pie Plot for popular dog breed  **EXCLUDING None**"
   ]
  },
  {
   "cell_type": "code",
   "execution_count": 8,
   "metadata": {},
   "outputs": [
    {
     "data": {
      "text/plain": [
       "pupper     173\n",
       "doggo       53\n",
       "puppo       22\n",
       "floofer      8\n",
       "Name: stage, dtype: int64"
      ]
     },
     "execution_count": 8,
     "metadata": {},
     "output_type": "execute_result"
    }
   ],
   "source": [
    "df_archive_master[df_archive_master['stage']!='None']['stage'].value_counts()"
   ]
  },
  {
   "cell_type": "code",
   "execution_count": 9,
   "metadata": {},
   "outputs": [
    {
     "data": {
      "text/plain": [
       "<matplotlib.axes._subplots.AxesSubplot at 0x23fcf203608>"
      ]
     },
     "execution_count": 9,
     "metadata": {},
     "output_type": "execute_result"
    },
    {
     "data": {
      "image/png": "[encoded data removed]",
      "text/plain": [
       "<Figure size 720x720 with 1 Axes>"
      ]
     },
     "metadata": {},
     "output_type": "display_data"
    }
   ],
   "source": [
    "df_archive_master[df_archive_master['stage']!='None']['stage'].value_counts().plot.pie(figsize=(10,10), autopct='%1.2f%%', pctdistance=.5, labeldistance=1.1)"
   ]
  },
  {
   "cell_type": "markdown",
   "metadata": {},
   "source": [
    "## Insight 1:\n",
    "Dogs in Pupper stage of dog life cycle get most tweets."
   ]
  },
  {
   "cell_type": "markdown",
   "metadata": {},
   "source": [
    "### 2: Scatter plot between favorites vs retweets"
   ]
  },
  {
   "cell_type": "code",
   "execution_count": 10,
   "metadata": {},
   "outputs": [
    {
     "data": {
      "text/plain": [
       "Text(0.5, 1.0, 'Retweets and favorites Scatter plot')"
      ]
     },
     "execution_count": 10,
     "metadata": {},
     "output_type": "execute_result"
    },
    {
     "data": {
      "image/png": "[encoded data removed]",
      "text/plain": [
       "<Figure size 720x720 with 1 Axes>"
      ]
     },
     "metadata": {
      "needs_background": "light"
     },
     "output_type": "display_data"
    }
   ],
   "source": [
    "import matplotlib.pyplot as plt\n",
    "df_archive_master.plot.scatter(x='favorites', y='retweets', figsize=(10,10))\n",
    "plt.xlabel('Favorites')\n",
    "plt.ylabel('Retweets')\n",
    "plt.title('Retweets and favorites Scatter plot')"
   ]
  },
  {
   "cell_type": "code",
   "execution_count": 11,
   "metadata": {},
   "outputs": [
    {
     "data": {
      "text/plain": [
       "0.9310508713822508"
      ]
     },
     "execution_count": 11,
     "metadata": {},
     "output_type": "execute_result"
    }
   ],
   "source": [
    "df_archive_master['favorites'].corr(df_archive_master['retweets'])"
   ]
  },
  {
   "cell_type": "markdown",
   "metadata": {},
   "source": [
    "## Insight 2:\n",
    "There is a high correlation between favorites and retweets"
   ]
  },
  {
   "cell_type": "code",
   "execution_count": 12,
   "metadata": {},
   "outputs": [],
   "source": [
    "df_breeds=df_archive_master.groupby('p1').count()[['tweet_id']]\n",
    "df_breeds.reset_index(inplace=True)"
   ]
  },
  {
   "cell_type": "code",
   "execution_count": 13,
   "metadata": {},
   "outputs": [
    {
     "data": {
      "text/html": [
       "<div>\n",
       "<style scoped>\n",
       "    .dataframe tbody tr th:only-of-type {\n",
       "        vertical-align: middle;\n",
       "    }\n",
       "\n",
       "    .dataframe tbody tr th {\n",
       "        vertical-align: top;\n",
       "    }\n",
       "\n",
       "    .dataframe thead th {\n",
       "        text-align: right;\n",
       "    }\n",
       "</style>\n",
       "<table border=\"1\" class=\"dataframe\">\n",
       "  <thead>\n",
       "    <tr style=\"text-align: right;\">\n",
       "      <th></th>\n",
       "      <th>p1</th>\n",
       "      <th>tweet_id</th>\n",
       "    </tr>\n",
       "  </thead>\n",
       "  <tbody>\n",
       "    <tr>\n",
       "      <th>18</th>\n",
       "      <td>Chesapeake_Bay_retriever</td>\n",
       "      <td>23</td>\n",
       "    </tr>\n",
       "    <tr>\n",
       "      <th>19</th>\n",
       "      <td>Chihuahua</td>\n",
       "      <td>78</td>\n",
       "    </tr>\n",
       "    <tr>\n",
       "      <th>27</th>\n",
       "      <td>French_bulldog</td>\n",
       "      <td>25</td>\n",
       "    </tr>\n",
       "    <tr>\n",
       "      <th>40</th>\n",
       "      <td>Labrador_retriever</td>\n",
       "      <td>92</td>\n",
       "    </tr>\n",
       "    <tr>\n",
       "      <th>53</th>\n",
       "      <td>Pembroke</td>\n",
       "      <td>88</td>\n",
       "    </tr>\n",
       "    <tr>\n",
       "      <th>54</th>\n",
       "      <td>Pomeranian</td>\n",
       "      <td>38</td>\n",
       "    </tr>\n",
       "    <tr>\n",
       "      <th>59</th>\n",
       "      <td>Samoyed</td>\n",
       "      <td>39</td>\n",
       "    </tr>\n",
       "    <tr>\n",
       "      <th>103</th>\n",
       "      <td>chow</td>\n",
       "      <td>41</td>\n",
       "    </tr>\n",
       "    <tr>\n",
       "      <th>105</th>\n",
       "      <td>cocker_spaniel</td>\n",
       "      <td>27</td>\n",
       "    </tr>\n",
       "    <tr>\n",
       "      <th>123</th>\n",
       "      <td>golden_retriever</td>\n",
       "      <td>137</td>\n",
       "    </tr>\n",
       "    <tr>\n",
       "      <th>149</th>\n",
       "      <td>malamute</td>\n",
       "      <td>29</td>\n",
       "    </tr>\n",
       "    <tr>\n",
       "      <th>152</th>\n",
       "      <td>miniature_pinscher</td>\n",
       "      <td>21</td>\n",
       "    </tr>\n",
       "    <tr>\n",
       "      <th>163</th>\n",
       "      <td>pug</td>\n",
       "      <td>54</td>\n",
       "    </tr>\n",
       "    <tr>\n",
       "      <th>195</th>\n",
       "      <td>toy_poodle</td>\n",
       "      <td>36</td>\n",
       "    </tr>\n",
       "  </tbody>\n",
       "</table>\n",
       "</div>"
      ],
      "text/plain": [
       "                           p1  tweet_id\n",
       "18   Chesapeake_Bay_retriever        23\n",
       "19                  Chihuahua        78\n",
       "27             French_bulldog        25\n",
       "40         Labrador_retriever        92\n",
       "53                   Pembroke        88\n",
       "54                 Pomeranian        38\n",
       "59                    Samoyed        39\n",
       "103                      chow        41\n",
       "105            cocker_spaniel        27\n",
       "123          golden_retriever       137\n",
       "149                  malamute        29\n",
       "152        miniature_pinscher        21\n",
       "163                       pug        54\n",
       "195                toy_poodle        36"
      ]
     },
     "execution_count": 13,
     "metadata": {},
     "output_type": "execute_result"
    }
   ],
   "source": [
    "# consider breeds with counts above 20\n",
    "df_breeds[df_breeds['tweet_id']>20]"
   ]
  },
  {
   "cell_type": "code",
   "execution_count": 14,
   "metadata": {},
   "outputs": [
    {
     "data": {
      "text/plain": [
       "<matplotlib.axes._subplots.AxesSubplot at 0x23fcff02fc8>"
      ]
     },
     "execution_count": 14,
     "metadata": {},
     "output_type": "execute_result"
    },
    {
     "data": {
      "image/png": "[encoded data removed]",
      "text/plain": [
       "<Figure size 720x432 with 1 Axes>"
      ]
     },
     "metadata": {
      "needs_background": "light"
     },
     "output_type": "display_data"
    }
   ],
   "source": [
    "df_breeds[df_breeds['tweet_id']>20].plot.bar(x='p1',y='tweet_id',figsize=(10,6))"
   ]
  },
  {
   "cell_type": "markdown",
   "metadata": {},
   "source": [
    "## Insight 3:\n",
    "Golden retriever is the most populare dog based on predictions p1"
   ]
  },
  {
   "cell_type": "code",
   "execution_count": null,
   "metadata": {},
   "outputs": [],
   "source": []
  }
 ],
 "metadata": {
  "kernelspec": {
   "display_name": "Python 3",
   "language": "python",
   "name": "python3"
  },
  "language_info": {
   "codemirror_mode": {
    "name": "ipython",
    "version": 3
   },
   "file_extension": ".py",
   "mimetype": "text/x-python",
   "name": "python",
   "nbconvert_exporter": "python",
   "pygments_lexer": "ipython3",
   "version": "3.7.6"
  }
 },
 "nbformat": 4,
 "nbformat_minor": 4
}
