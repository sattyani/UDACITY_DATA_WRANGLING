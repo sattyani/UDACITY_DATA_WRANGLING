{
 "cells": [
  {
   "cell_type": "markdown",
   "metadata": {},
   "source": [
    "# Objectives"
   ]
  },
  {
   "cell_type": "markdown",
   "metadata": {},
   "source": [
    "Create a 300-600 word written report called wrangle_report.pdf or wrangle_report.html that briefly describes your wrangling efforts. This is to be framed as an internal document."
   ]
  },
  {
   "cell_type": "markdown",
   "metadata": {},
   "source": [
    "# Wrangle Project Report\n",
    "\n",
    "## Data Gathering\n",
    "\n",
    "Three different sources utilized for data gathering, each source utilized different gathering method:\n",
    "\n",
    "1.\ttwitter_archive_enhanced.csv file for reaching project main data, provided by Udacity and easily read using pandas\n",
    "\n",
    "2.\timage_prediction.tsv file provided as a url. The instruction was to utilize requests to download data file from the internet which is done, but another option was to utilize pandas read_csv with the url. comparing both options results came identical and hence used pandas read_csv\n",
    "\n",
    "3.\tThe final file came using twetter api “tweepy” to scrape data from an API. Four data is collected tweets, retweet_count, favorite_count, followers_count, and favourites_count is captured for each of the tweet ids in twitter_archive_enhanced.csv file\n",
    "\n",
    "### Three data sources\n",
    "\n",
    "#### Enhanced Twitter Archive\n",
    "The WeRateDogs Twitter archive provided by Udacity. This contains basic tweet data for all 5000+ of their tweets, but not everything. The file is downloaded manually using provided link\n",
    "\n",
    "#### Image Predictions File\n",
    "The tweet image predictions, for what breed of dog is present in each tweet according to a neural network. This file is provided with url to download programmatically\n",
    "\n",
    "#### Data via the Twitter API\n",
    "For each tweet id retweet provided in the twitter_archive_enhanced.csv file, the following data is collected using tweepy api\n",
    "-\tretweet_count\n",
    "-\tfavorite_count\n",
    "-\tfollowers_count\n",
    "-\tfavourites_count \n",
    "\n",
    "\n",
    "## Data Assessment Results\n",
    "\n",
    "\n",
    "### Data Quality\n",
    "\n",
    "#### df_twitter_archive\n",
    "1- we should not consider records for retweets (181 rows) or reply to tweets (78 rows) in the list. hence drop records where retweeted_status_id, in_reply_to_status_id have not null values\n",
    "\n",
    "2- Four columns are used to record dog stage, since one one stage can be associated with the dog, only one column is needed instead of four. doggo, floofer, pupper, puppo columns be replaced with one column called \"stage\"\n",
    "\n",
    "3- rating_denumerator has many unrealistic values, it should not exceed 10\n",
    "\n",
    "4- rating_numerator has cases where value is bigger than 20, we will use mean for such cases\n",
    "\n",
    "5-timestamp should be datetime instead of object (string).\n",
    "\n",
    "6- name column has many crezy values such as very, a, the, an, O, by, my, an, unacceptable. this will be set to \"None\"\n",
    "\n",
    "7- remove unwanted columns retweeted_status_user_id,retweeted_status_id, timestamp, timestamp, source,\n",
    "               'in_reply_to_status_id,in_reply_to_user_id,in_reply_to_status_id, expanded_urls\n",
    "\n",
    "#### df_image_prediction\n",
    "\n",
    "1- remove all records where all predictions are false, not an image of a dog\n",
    "\n",
    "2- p1, p2 and p3 should be categoral datatype, but since there is a big number of dog breeds it better keep as string.\n",
    "\n",
    "## Data Tideness\n",
    "\n",
    "1- merge df_twitter_archive_clean with df_tweets_data_clean\n",
    "\n",
    "2- merge df_twitter_archive_clean with df_image_predictions, this will make df_twitter_archive_clean the master dataframe for important and related data\n",
    " \n"
   ]
  },
  {
   "cell_type": "code",
   "execution_count": null,
   "metadata": {},
   "outputs": [],
   "source": []
  }
 ],
 "metadata": {
  "kernelspec": {
   "display_name": "Python 3",
   "language": "python",
   "name": "python3"
  },
  "language_info": {
   "codemirror_mode": {
    "name": "ipython",
    "version": 3
   },
   "file_extension": ".py",
   "mimetype": "text/x-python",
   "name": "python",
   "nbconvert_exporter": "python",
   "pygments_lexer": "ipython3",
   "version": "3.7.6"
  }
 },
 "nbformat": 4,
 "nbformat_minor": 4
}
